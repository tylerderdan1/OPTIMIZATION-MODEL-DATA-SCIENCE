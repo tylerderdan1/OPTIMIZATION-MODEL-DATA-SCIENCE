{
  "nbformat": 4,
  "nbformat_minor": 0,
  "metadata": {
    "colab": {
      "provenance": []
    },
    "kernelspec": {
      "name": "python3",
      "display_name": "Python 3"
    },
    "language_info": {
      "name": "python"
    }
  },
  "cells": [
    {
      "cell_type": "code",
      "execution_count": 1,
      "metadata": {
        "colab": {
          "base_uri": "https://localhost:8080/"
        },
        "id": "zv6h6kATp3u0",
        "outputId": "1c5d7248-471d-40e6-da9f-8fcefd2f642f"
      },
      "outputs": [
        {
          "output_type": "stream",
          "name": "stdout",
          "text": [
            "Collecting pulp\n",
            "  Downloading pulp-3.1.1-py3-none-any.whl.metadata (1.3 kB)\n",
            "Downloading pulp-3.1.1-py3-none-any.whl (16.4 MB)\n",
            "\u001b[2K   \u001b[90m━━━━━━━━━━━━━━━━━━━━━━━━━━━━━━━━━━━━━━━━\u001b[0m \u001b[32m16.4/16.4 MB\u001b[0m \u001b[31m33.1 MB/s\u001b[0m eta \u001b[36m0:00:00\u001b[0m\n",
            "\u001b[?25hInstalling collected packages: pulp\n",
            "Successfully installed pulp-3.1.1\n"
          ]
        }
      ],
      "source": [
        "!pip install pulp"
      ]
    },
    {
      "cell_type": "code",
      "source": [
        "from pulp import *\n",
        "\n",
        "# --- Problem 1: Product Mix Optimization ---\n",
        "model1 = LpProblem(\"Maximize_Profit\", LpMaximize)\n",
        "\n",
        "x = LpVariable(\"Product_A\", lowBound=0, cat='Continuous')\n",
        "y = LpVariable(\"Product_B\", lowBound=0, cat='Continuous')\n",
        "\n",
        "model1 += 20 * x + 30 * y, \"Total_Profit\"\n",
        "model1 += 2 * x + 1 * y <= 100, \"Machine_1_Time\"\n",
        "model1 += 1 * x + 2 * y <= 80, \"Machine_2_Time\"\n",
        "\n",
        "model1.solve()\n",
        "\n",
        "print(\"📌 Product Mix Optimization Results:\")\n",
        "print(f\"Status: {LpStatus[model1.status]}\")\n",
        "print(f\"Produce Product A: {x.varValue}\")\n",
        "print(f\"Produce Product B: {y.varValue}\")\n",
        "print(f\"Maximum Profit: ₹{value(model1.objective)}\\n\")\n",
        "\n",
        "# --- Problem 2: Transportation Optimization ---\n",
        "warehouses = ['A', 'B']\n",
        "stores = ['1', '2', '3']\n",
        "\n",
        "supply = {'A': 70, 'B': 50}\n",
        "demand = {'1': 40, '2': 50, '3': 30}\n",
        "\n",
        "costs = {\n",
        "    ('A', '1'): 2, ('A', '2'): 4, ('A', '3'): 5,\n",
        "    ('B', '1'): 3, ('B', '2'): 1, ('B', '3'): 7\n",
        "}\n",
        "\n",
        "model2 = LpProblem(\"Minimize_Transportation_Cost\", LpMinimize)\n",
        "\n",
        "x = LpVariable.dicts(\"route\", (warehouses, stores), lowBound=0, cat='Continuous')\n",
        "\n",
        "model2 += lpSum(x[w][s] * costs[(w, s)] for w in warehouses for s in stores), \"Total_Cost\"\n",
        "\n",
        "for w in warehouses:\n",
        "    model2 += lpSum(x[w][s] for s in stores) <= supply[w], f\"Supply_{w}\"\n",
        "for s in stores:\n",
        "    model2 += lpSum(x[w][s] for w in warehouses) == demand[s], f\"Demand_{s}\"\n",
        "\n",
        "model2.solve()\n",
        "\n",
        "print(\"📌 Transportation Optimization Results:\")\n",
        "print(f\"Status: {LpStatus[model2.status]}\")\n",
        "for w in warehouses:\n",
        "    for s in stores:\n",
        "        print(f\"Ship from Warehouse {w} to Store {s}: {x[w][s].varValue} units\")\n",
        "print(f\"Total Minimum Cost: ₹{value(model2.objective)}\")\n"
      ],
      "metadata": {
        "colab": {
          "base_uri": "https://localhost:8080/"
        },
        "id": "tR3N4GMSqKmz",
        "outputId": "82f22b71-f6ae-4f3a-8038-9f77eebb1192"
      },
      "execution_count": 2,
      "outputs": [
        {
          "output_type": "stream",
          "name": "stdout",
          "text": [
            "📌 Product Mix Optimization Results:\n",
            "Status: Optimal\n",
            "Produce Product A: 40.0\n",
            "Produce Product B: 20.0\n",
            "Maximum Profit: ₹1400.0\n",
            "\n",
            "📌 Transportation Optimization Results:\n",
            "Status: Optimal\n",
            "Ship from Warehouse A to Store 1: 40.0 units\n",
            "Ship from Warehouse A to Store 2: 0.0 units\n",
            "Ship from Warehouse A to Store 3: 30.0 units\n",
            "Ship from Warehouse B to Store 1: 0.0 units\n",
            "Ship from Warehouse B to Store 2: 50.0 units\n",
            "Ship from Warehouse B to Store 3: 0.0 units\n",
            "Total Minimum Cost: ₹280.0\n"
          ]
        }
      ]
    }
  ]
}